{
 "cells": [
  {
   "cell_type": "code",
   "execution_count": 3,
   "id": "c25db1a8",
   "metadata": {},
   "outputs": [],
   "source": [
    "import numpy as np\n",
    "from sklearn.naive_bayes import GaussianNB\n",
    "from sklearn.metrics import accuracy_score"
   ]
  },
  {
   "cell_type": "code",
   "execution_count": 7,
   "id": "d079835e",
   "metadata": {},
   "outputs": [],
   "source": [
    "# Unicode 수치를 출련 빈도 판정 \n",
    "def count_unicode(s):\n",
    "    # Unicode 수치를 저장할 배열 준비\n",
    "    counter = np.zeros(65535)\n",
    "    \n",
    "    for i in range(len(s)):\n",
    "        # 각각의 문자를 Unicode 숫자로 변환\n",
    "        code_value = ord(s[i]) # 문자를 Unicode 정수로 반환 -> chr(정수) -> chr(97) -> a\n",
    "        if code_value > 65535:\n",
    "            continue\n",
    "            \n",
    "        # 출련 빈도 확인 \n",
    "        counter[code_value] += 1\n",
    "    \n",
    "    # 각 요소를 문자 수로 나누어서 정규화 \n",
    "    counter = counter / len(s)\n",
    "    return counter"
   ]
  },
  {
   "cell_type": "markdown",
   "id": "f51936f7",
   "metadata": {},
   "source": [
    "### 1. demo"
   ]
  },
  {
   "cell_type": "code",
   "execution_count": 8,
   "id": "6bcfc65b",
   "metadata": {},
   "outputs": [],
   "source": [
    "# 학습 데이터 \n",
    "ko_str = \"이것은 한국어 문장입니다.\"\n",
    "ja_str = \"これは日本語の文章です。\"\n",
    "en_str = \"This is an English Sentences.\""
   ]
  },
  {
   "cell_type": "code",
   "execution_count": 9,
   "id": "6b8f4b3e",
   "metadata": {},
   "outputs": [],
   "source": [
    "X_train = [count_unicode(ko_str), count_unicode(ja_str), count_unicode(en_str)]\n",
    "Y_train = ['ko','ja','en']"
   ]
  },
  {
   "cell_type": "code",
   "execution_count": 10,
   "id": "ef692f2f",
   "metadata": {},
   "outputs": [
    {
     "data": {
      "text/plain": [
       "GaussianNB()"
      ]
     },
     "execution_count": 10,
     "metadata": {},
     "output_type": "execute_result"
    }
   ],
   "source": [
    "# 학습 \n",
    "model = GaussianNB()\n",
    "model.fit(X_train, Y_train)"
   ]
  },
  {
   "cell_type": "code",
   "execution_count": 11,
   "id": "1f6f564c",
   "metadata": {},
   "outputs": [],
   "source": [
    "# 평가 데이터 \n",
    "ko_test_str = \"안녕하세요.\"\n",
    "ja_test_str = \"こんにちは。\"\n",
    "en_test_str = \"Hello.\""
   ]
  },
  {
   "cell_type": "code",
   "execution_count": 12,
   "id": "2983e92b",
   "metadata": {},
   "outputs": [],
   "source": [
    "X_test = [count_unicode(ko_test_str), count_unicode(ja_test_str), count_unicode(en_test_str)]\n",
    "Y_test = ['ko','ja','en']"
   ]
  },
  {
   "cell_type": "code",
   "execution_count": 13,
   "id": "a6b42fc4",
   "metadata": {},
   "outputs": [],
   "source": [
    "# 평가\n",
    "y_pred = model.predict(X_test)"
   ]
  },
  {
   "cell_type": "code",
   "execution_count": 14,
   "id": "f6cb07b5",
   "metadata": {},
   "outputs": [
    {
     "name": "stdout",
     "output_type": "stream",
     "text": [
      "['ko' 'ja' 'en']\n"
     ]
    }
   ],
   "source": [
    "print(y_pred)"
   ]
  },
  {
   "cell_type": "code",
   "execution_count": 15,
   "id": "3c742059",
   "metadata": {},
   "outputs": [
    {
     "name": "stdout",
     "output_type": "stream",
     "text": [
      "정답률=1.0\n"
     ]
    }
   ],
   "source": [
    "print(f\"정답률={accuracy_score(Y_test, y_pred)}\")"
   ]
  },
  {
   "cell_type": "markdown",
   "id": "fdf64a99",
   "metadata": {},
   "source": [
    "### 2. Demo "
   ]
  },
  {
   "cell_type": "code",
   "execution_count": 17,
   "id": "88997615",
   "metadata": {},
   "outputs": [],
   "source": [
    "import glob"
   ]
  },
  {
   "cell_type": "code",
   "execution_count": 24,
   "id": "665986a5",
   "metadata": {},
   "outputs": [
    {
     "name": "stdout",
     "output_type": "stream",
     "text": [
      "./dataset/train/es_cat.txt es\n",
      "./dataset/train/en_elephant.txt en\n",
      "./dataset/train/en_cat.txt en\n",
      "./dataset/train/de_cat.txt de\n",
      "./dataset/train/es_dog.txt es\n",
      "./dataset/train/de_elephant.txt de\n",
      "./dataset/train/en_dog.txt en\n",
      "./dataset/train/es_elephant.txt es\n",
      "./dataset/train/de_dog.txt de\n"
     ]
    }
   ],
   "source": [
    "# 학습 데이터 준비하기 --- (*1)\n",
    "index = 0\n",
    "x_train = []\n",
    "y_train = []\n",
    "for file in glob.glob('./dataset/train/*.txt'):\n",
    "    # 언어 정보를 추출하고 레이블로 지정하기 --- (*2)\n",
    "    y_train.append(file[16:18])\n",
    "    \n",
    "    # 파일 내부의 문자열을 모두 추출한 뒤 빈도 배열로 변환한 뒤 입력 데이터로 사용하기 --- (*3)\n",
    "    file_str = ''\n",
    "    for line in open(file, 'r', encoding='UTF8'):\n",
    "        file_str = file_str + line\n",
    "    x_train.append(count_unicode(file_str))"
   ]
  },
  {
   "cell_type": "code",
   "execution_count": 25,
   "id": "289d0ed1",
   "metadata": {},
   "outputs": [
    {
     "data": {
      "text/plain": [
       "GaussianNB()"
      ]
     },
     "execution_count": 25,
     "metadata": {},
     "output_type": "execute_result"
    }
   ],
   "source": [
    "model = GaussianNB() \n",
    "model.fit(x_train, y_train)"
   ]
  },
  {
   "cell_type": "code",
   "execution_count": 27,
   "id": "1437bd23",
   "metadata": {},
   "outputs": [],
   "source": [
    "# 평가 데이터 준비하기 --- (*4)\n",
    "index = 0\n",
    "x_test = []\n",
    "y_test = []\n",
    "for file in glob.glob('./dataset/test/*.txt'):\n",
    "    # 언어 정보를 추출하고 레이블로 지정하기\n",
    "    y_test.append(file[15:17])\n",
    "    \n",
    "    # 파일 내부의 문자열을 모두 추출한 뒤 빈도 배열로 변환한 뒤 입력 데이터로 사용하기\n",
    "    file_str = ''\n",
    "    for line in open(file, 'r', encoding='UTF8'):\n",
    "        file_str = file_str + line\n",
    "    x_test.append(count_unicode(file_str)) "
   ]
  },
  {
   "cell_type": "code",
   "execution_count": 28,
   "id": "bf693c91",
   "metadata": {},
   "outputs": [
    {
     "name": "stdout",
     "output_type": "stream",
     "text": [
      "['en' 'de' 'es']\n",
      "정답률 =  1.0\n"
     ]
    }
   ],
   "source": [
    "# 평가하기\n",
    "y_pred = model.predict(x_test)\n",
    "print(y_pred)\n",
    "print(\"정답률 = \" , accuracy_score(y_test, y_pred))"
   ]
  }
 ],
 "metadata": {
  "kernelspec": {
   "display_name": "Python 3 (ipykernel)",
   "language": "python",
   "name": "python3"
  },
  "language_info": {
   "codemirror_mode": {
    "name": "ipython",
    "version": 3
   },
   "file_extension": ".py",
   "mimetype": "text/x-python",
   "name": "python",
   "nbconvert_exporter": "python",
   "pygments_lexer": "ipython3",
   "version": "3.9.7"
  }
 },
 "nbformat": 4,
 "nbformat_minor": 5
}
