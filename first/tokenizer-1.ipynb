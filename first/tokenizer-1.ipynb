{
 "cells": [
  {
   "cell_type": "code",
   "execution_count": 2,
   "id": "05b00a59",
   "metadata": {},
   "outputs": [],
   "source": [
    "from nltk.tokenize import word_tokenize\n",
    "from nltk.tokenize import WordPunctTokenizer\n",
    "from tensorflow.keras.preprocessing.text import text_to_word_sequence"
   ]
  },
  {
   "cell_type": "code",
   "execution_count": 3,
   "id": "2911d26a",
   "metadata": {},
   "outputs": [],
   "source": [
    "contents = \"Apple's line of iPhone 13s, released in autumn 2021, sell for between $700 and $1,100.\""
   ]
  },
  {
   "cell_type": "code",
   "execution_count": 5,
   "id": "b015d30b",
   "metadata": {},
   "outputs": [
    {
     "name": "stdout",
     "output_type": "stream",
     "text": [
      "토큰화1: ['Apple', \"'s\", 'line', 'of', 'iPhone', '13s', ',', 'released', 'in', 'autumn', '2021', ',', 'sell', 'for', 'between', '$', '700', 'and', '$', '1,100', '.']\n"
     ]
    }
   ],
   "source": [
    "print(\"토큰화1:\", word_tokenize(contents))"
   ]
  },
  {
   "cell_type": "code",
   "execution_count": 6,
   "id": "245b2983",
   "metadata": {},
   "outputs": [
    {
     "name": "stdout",
     "output_type": "stream",
     "text": [
      "토큰화2: ['Apple', \"'\", 's', 'line', 'of', 'iPhone', '13s', ',', 'released', 'in', 'autumn', '2021', ',', 'sell', 'for', 'between', '$', '700', 'and', '$', '1', ',', '100', '.']\n"
     ]
    }
   ],
   "source": [
    "print(\"토큰화2:\", WordPunctTokenizer().tokenize(contents))"
   ]
  },
  {
   "cell_type": "code",
   "execution_count": 7,
   "id": "94526383",
   "metadata": {},
   "outputs": [
    {
     "name": "stdout",
     "output_type": "stream",
     "text": [
      "토큰화3: [\"apple's\", 'line', 'of', 'iphone', '13s', 'released', 'in', 'autumn', '2021', 'sell', 'for', 'between', '700', 'and', '1', '100']\n"
     ]
    }
   ],
   "source": [
    "print(\"토큰화3:\", text_to_word_sequence(contents))"
   ]
  },
  {
   "cell_type": "markdown",
   "id": "53792d10",
   "metadata": {},
   "source": [
    "### 영문, 한글 토큰화"
   ]
  },
  {
   "cell_type": "code",
   "execution_count": 9,
   "id": "206e03fd",
   "metadata": {},
   "outputs": [
    {
     "name": "stdout",
     "output_type": "stream",
     "text": [
      "토큰화4: ['Apple', \"'s\", 'line', 'of', 'iPhone', '13s', ',', 'released', 'in', 'autumn', '2021', ',', 'sell', 'for', 'between', '$', '700', 'and', '$', '1,100', '.']\n"
     ]
    }
   ],
   "source": [
    "from nltk.tag import pos_tag\n",
    "\n",
    "tokenized = word_tokenize(contents)\n",
    "\n",
    "print(\"토큰화4:\", tokenized)"
   ]
  },
  {
   "cell_type": "code",
   "execution_count": 10,
   "id": "dd903fef",
   "metadata": {},
   "outputs": [
    {
     "name": "stdout",
     "output_type": "stream",
     "text": [
      "품사 태깅: [('Apple', 'NNP'), (\"'s\", 'POS'), ('line', 'NN'), ('of', 'IN'), ('iPhone', 'NN'), ('13s', 'CD'), (',', ','), ('released', 'VBN'), ('in', 'IN'), ('autumn', 'NN'), ('2021', 'CD'), (',', ','), ('sell', 'VB'), ('for', 'IN'), ('between', 'IN'), ('$', '$'), ('700', 'CD'), ('and', 'CC'), ('$', '$'), ('1,100', 'CD'), ('.', '.')]\n"
     ]
    }
   ],
   "source": [
    "print(\"품사 태깅:\", pos_tag(tokenized))"
   ]
  },
  {
   "cell_type": "code",
   "execution_count": 11,
   "id": "4100ca0d",
   "metadata": {},
   "outputs": [],
   "source": [
    "# KoNLPY (자연어 파이썬 패키지), Okt, Mecab, kkma \n",
    "from konlpy.tag import Okt\n",
    "from konlpy.tag import Kkma\n",
    "\n",
    "okt = Okt()\n",
    "kkma = Kkma()"
   ]
  },
  {
   "cell_type": "code",
   "execution_count": 13,
   "id": "7e4aa525",
   "metadata": {},
   "outputs": [
    {
     "name": "stderr",
     "output_type": "stream",
     "text": [
      "[nltk_data] Downloading package punkt to /Users/dowonlee/nltk_data...\n",
      "[nltk_data]   Package punkt is already up-to-date!\n",
      "[nltk_data] Downloading package averaged_perceptron_tagger to\n",
      "[nltk_data]     /Users/dowonlee/nltk_data...\n",
      "[nltk_data]   Package averaged_perceptron_tagger is already up-to-\n",
      "[nltk_data]       date!\n",
      "[nltk_data] Downloading package stopwords to\n",
      "[nltk_data]     /Users/dowonlee/nltk_data...\n",
      "[nltk_data]   Package stopwords is already up-to-date!\n",
      "[nltk_data] Downloading package wordnet to\n",
      "[nltk_data]     /Users/dowonlee/nltk_data...\n",
      "[nltk_data]   Package wordnet is already up-to-date!\n",
      "[nltk_data] Downloading package webtext to\n",
      "[nltk_data]     /Users/dowonlee/nltk_data...\n",
      "[nltk_data]   Package webtext is already up-to-date!\n",
      "[nltk_data] Error loading taggers: Package 'taggers' not found in\n",
      "[nltk_data]     index\n",
      "[nltk_data] Downloading package reuters to\n",
      "[nltk_data]     /Users/dowonlee/nltk_data...\n",
      "[nltk_data]   Package reuters is already up-to-date!\n"
     ]
    },
    {
     "data": {
      "text/plain": [
       "True"
      ]
     },
     "execution_count": 13,
     "metadata": {},
     "output_type": "execute_result"
    }
   ],
   "source": [
    "import nltk\n",
    "nltk.download('punkt')\n",
    "nltk.download('averaged_perceptron_tagger')\n",
    "nltk.download('stopwords')\n",
    "nltk.download('wordnet')\n",
    "nltk.download('webtext')\n",
    "nltk.download('taggers')\n",
    "nltk.download('reuters')\n"
   ]
  },
  {
   "cell_type": "code",
   "execution_count": 15,
   "id": "00e3c94e",
   "metadata": {},
   "outputs": [
    {
     "name": "stdout",
     "output_type": "stream",
     "text": [
      "OKT 형태소 분석: ['오늘', '은', 'Python', '과', '함께', '사용', '하는', 'JAVA', '의', '올바른', '설치', '법', '과', 'Konlpy', '라이브러리', '사용', '중', '나타나는', 'JvmNotFoundException', '에러', '해결', '법', '에', '대해', '알아보겠습니다', '.']\n"
     ]
    }
   ],
   "source": [
    "print(\"OKT 형태소 분석:\", okt.morphs(\"오늘은 Python과 함께 사용하는 JAVA의 올바른 설치법과 Konlpy 라이브러리 사용 중 나타나는 JvmNotFoundException 에러 해결법에 대해 알아보겠습니다.\"))"
   ]
  },
  {
   "cell_type": "code",
   "execution_count": 17,
   "id": "73a691ed",
   "metadata": {},
   "outputs": [
    {
     "name": "stdout",
     "output_type": "stream",
     "text": [
      "OKT 품사 태깅: [('오늘', 'Noun'), ('은', 'Josa'), ('Python', 'Alpha'), ('과', 'Noun'), ('함께', 'Adverb'), ('사용', 'Noun'), ('하는', 'Verb'), ('JAVA', 'Alpha'), ('의', 'Noun'), ('올바른', 'Adjective'), ('설치', 'Noun'), ('법', 'Noun'), ('과', 'Josa'), ('Konlpy', 'Alpha'), ('라이브러리', 'Noun'), ('사용', 'Noun'), ('중', 'Noun'), ('나타나는', 'Verb'), ('JvmNotFoundException', 'Alpha'), ('에러', 'Noun'), ('해결', 'Noun'), ('법', 'Noun'), ('에', 'Josa'), ('대해', 'Noun'), ('알아보겠습니다', 'Verb'), ('.', 'Punctuation')]\n"
     ]
    }
   ],
   "source": [
    "print(\"OKT 품사 태깅:\", okt.pos(\"오늘은 Python과 함께 사용하는 JAVA의 올바른 설치법과 Konlpy 라이브러리 사용 중 나타나는 JvmNotFoundException 에러 해결법에 대해 알아보겠습니다.\"))"
   ]
  },
  {
   "cell_type": "code",
   "execution_count": 18,
   "id": "c3842114",
   "metadata": {},
   "outputs": [
    {
     "name": "stdout",
     "output_type": "stream",
     "text": [
      "OKT 명사 추출: ['오늘', '과', '사용', '의', '설치', '법', '라이브러리', '사용', '중', '에러', '해결', '법', '대해']\n"
     ]
    }
   ],
   "source": [
    "print(\"OKT 명사 추출:\", okt.nouns(\"오늘은 Python과 함께 사용하는 JAVA의 올바른 설치법과 Konlpy 라이브러리 사용 중 나타나는 JvmNotFoundException 에러 해결법에 대해 알아보겠습니다.\"))"
   ]
  },
  {
   "cell_type": "code",
   "execution_count": 20,
   "id": "ef7649b6",
   "metadata": {},
   "outputs": [
    {
     "name": "stdout",
     "output_type": "stream",
     "text": [
      "KKMA 형태소 분석: ['오늘', '은', 'Python', '과', '함께', '사용', '하', '는', 'JAVA', '의', '올바르', 'ㄴ', '설치법', '과', 'Konlpy', '라이브러리', '사용', '중', '나타나', '는', 'JvmNotFoundException', '에러', '해결', '법', '에', '대하', '어', '알아보', '겠', '습니다', '.']\n",
      "KKMA 품사 태깅: [('오늘', 'NNG'), ('은', 'JX'), ('Python', 'OL'), ('과', 'JKM'), ('함께', 'MAG'), ('사용', 'NNG'), ('하', 'XSV'), ('는', 'ETD'), ('JAVA', 'OL'), ('의', 'JKG'), ('올바르', 'VA'), ('ㄴ', 'ETD'), ('설치법', 'NNG'), ('과', 'JC'), ('Konlpy', 'OL'), ('라이브러리', 'NNG'), ('사용', 'NNG'), ('중', 'NNB'), ('나타나', 'VV'), ('는', 'ETD'), ('JvmNotFoundException', 'OL'), ('에러', 'NNG'), ('해결', 'NNG'), ('법', 'NNG'), ('에', 'JKM'), ('대하', 'VV'), ('어', 'ECS'), ('알아보', 'VV'), ('겠', 'EPT'), ('습니다', 'EFN'), ('.', 'SF')]\n",
      "KKMA 명사 추출: ['오늘', '사용', '설치법', '라이브러리', '중', '에러', '해결', '해결법', '법']\n"
     ]
    }
   ],
   "source": [
    "print(\"KKMA 형태소 분석:\", kkma.morphs(\"오늘은 Python과 함께 사용하는 JAVA의 올바른 설치법과 Konlpy 라이브러리 사용 중 나타나는 JvmNotFoundException 에러 해결법에 대해 알아보겠습니다.\"))\n",
    "print(\"KKMA 품사 태깅:\", kkma.pos(\"오늘은 Python과 함께 사용하는 JAVA의 올바른 설치법과 Konlpy 라이브러리 사용 중 나타나는 JvmNotFoundException 에러 해결법에 대해 알아보겠습니다.\"))\n",
    "print(\"KKMA 명사 추출:\", kkma.nouns(\"오늘은 Python과 함께 사용하는 JAVA의 올바른 설치법과 Konlpy 라이브러리 사용 중 나타나는 JvmNotFoundException 에러 해결법에 대해 알아보겠습니다.\"))"
   ]
  }
 ],
 "metadata": {
  "kernelspec": {
   "display_name": "Python 3 (ipykernel)",
   "language": "python",
   "name": "python3"
  },
  "language_info": {
   "codemirror_mode": {
    "name": "ipython",
    "version": 3
   },
   "file_extension": ".py",
   "mimetype": "text/x-python",
   "name": "python",
   "nbconvert_exporter": "python",
   "pygments_lexer": "ipython3",
   "version": "3.9.7"
  }
 },
 "nbformat": 4,
 "nbformat_minor": 5
}
