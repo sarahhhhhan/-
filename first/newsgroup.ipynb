{
 "cells": [
  {
   "cell_type": "code",
   "execution_count": 1,
   "id": "1c3aa69e",
   "metadata": {},
   "outputs": [],
   "source": [
    "import numpy as np\n",
    "from sklearn.datasets import fetch_20newsgroups\n",
    "import matplotlib.pyplot as plt\n",
    "\n",
    "from tensorflow.keras.preprocessing.text import Tokenizer\n",
    "from tensorflow.keras.preprocessing.sequence import pad_sequences\n",
    "from keras.utils.np_utils import to_categorical\n",
    "from tensorflow.keras.layers import Dense, Input, Flatten\n",
    "from tensorflow.keras.layers import Conv1D, MaxPooling1D, Embedding, Dropout, Concatenate\n",
    "from tensorflow.keras.models import Model"
   ]
  },
  {
   "cell_type": "code",
   "execution_count": 2,
   "id": "4cc46c9d",
   "metadata": {},
   "outputs": [],
   "source": [
    "# pip install tqdm -> progressbar \n",
    "from tqdm import tqdm"
   ]
  },
  {
   "cell_type": "code",
   "execution_count": 3,
   "id": "b77e15f7",
   "metadata": {},
   "outputs": [
    {
     "name": "stdout",
     "output_type": "stream",
     "text": [
      "['comp.sys.mac.hardware', 'rec.motorcycles', 'sci.electronics']\n",
      "1767\n"
     ]
    }
   ],
   "source": [
    "categories = ['comp.sys.mac.hardware', 'rec.motorcycles', 'sci.electronics']\n",
    "\n",
    "newsgroups_train = fetch_20newsgroups(subset='train', shuffle=True, categories=categories)\n",
    "\n",
    "print(newsgroups_train.target_names)\n",
    "print(len(newsgroups_train.data))"
   ]
  },
  {
   "cell_type": "code",
   "execution_count": 4,
   "id": "92349a01",
   "metadata": {},
   "outputs": [
    {
     "name": "stdout",
     "output_type": "stream",
     "text": [
      "[': |> In article <2514@tekgen.bv.tek.com> davet@interceptor.cds.tek.com (Dave Tharp CDS) writes:', ': |> >In article <1993Apr15.171757.10890@i88.isc.com> jeq@lachman.com (Jonathan E. Quist) writes:', ': |> >>Rolls-Royce owned by a non-British firm?', ': |> >>', ': |> >>Ye Gods, that would be the end of civilization as we know it.']\n"
     ]
    }
   ],
   "source": [
    "# print(newsgroups_train.data[0])\n",
    "print(newsgroups_train.data[0].split(\"\\n\")[10:15])"
   ]
  },
  {
   "cell_type": "code",
   "execution_count": 5,
   "id": "fddd99b7",
   "metadata": {},
   "outputs": [
    {
     "name": "stdout",
     "output_type": "stream",
     "text": [
      "dict_keys(['data', 'filenames', 'target_names', 'target', 'DESCR'])\n"
     ]
    }
   ],
   "source": [
    "print(newsgroups_train.keys())"
   ]
  },
  {
   "cell_type": "code",
   "execution_count": 6,
   "id": "3853cbfa",
   "metadata": {},
   "outputs": [
    {
     "name": "stdout",
     "output_type": "stream",
     "text": [
      "1767\n",
      "1767\n",
      "3\n",
      "1767\n"
     ]
    }
   ],
   "source": [
    "print(len(newsgroups_train.data))\n",
    "print(len(newsgroups_train.filenames))\n",
    "print(len(newsgroups_train.target_names))\n",
    "print(len(newsgroups_train.target))"
   ]
  },
  {
   "cell_type": "code",
   "execution_count": 7,
   "id": "8940574f",
   "metadata": {},
   "outputs": [
    {
     "name": "stdout",
     "output_type": "stream",
     "text": [
      "['comp.sys.mac.hardware', 'rec.motorcycles', 'sci.electronics']\n"
     ]
    }
   ],
   "source": [
    "print(newsgroups_train.target_names)"
   ]
  },
  {
   "cell_type": "code",
   "execution_count": 8,
   "id": "6c4e1047",
   "metadata": {},
   "outputs": [
    {
     "data": {
      "text/plain": [
       "'From: npet@bnr.ca (Nick Pettefar)\\nSubject: Re: Happy Easter!\\nNntp-Posting-Host: bmdhh299\\nOrganization: BNR Europe Ltd, Maidenhead, UK\\nX-Newsreader: TIN [version 1.1 PL8]\\nLines: 37\\n\\nkevinh, on the Tue, 20 Apr 1993 13:23:01 GMT wibbled:\\n\\n: In article <1993Apr19.154020.24818@i88.isc.com>, jeq@lachman.com (Jonathan E. Quist) writes:\\n: |> In article <2514@tekgen.bv.tek.com> davet@interceptor.cds.tek.com (Dave Tharp CDS) writes:\\n: |> >In article <1993Apr15.171757.10890@i88.isc.com> jeq@lachman.com (Jonathan E. Quist) writes:\\n: |> >>Rolls-Royce owned by a non-British firm?\\n: |> >>\\n: |> >>Ye Gods, that would be the end of civilization as we know it.\\n: |> >\\n: |> >  Why not?  Ford owns Aston-Martin and Jaguar, General Motors owns Lotus\\n: |> >and Vauxhall.  Rover is only owned 20% by Honda.\\n: |> \\n: |> Yes, it\\'s a minor blasphemy that U.S. companies would ?? on the likes of A.M.,\\n: |> Jaguar, or (sob) Lotus.  It\\'s outright sacrilege for RR to have non-British\\n: |> ownership.  It\\'s a fundamental thing\\n\\n\\n: I think there is a legal clause in the RR name, regardless of who owns it\\n: it must be a British company/owner - i.e. BA can sell the company but not\\n: the name.\\n\\n: kevinh@hasler.ascom.ch\\n\\nI don\\'t believe that BA have anything to do with RR.  It\\'s a seperate\\ncompany from the RR Aero-Engine company.  I think that the government\\nown a stake.  Unfortunately they owned a stake of Jaguar too, until\\nthey decided to make a quick buck and sold it to Ford.  Bastards.\\nThis is definitely the ultimate Arthur-Daley government.\\n--\\n\\nNick (the Cynical Biker)   DoD 1069   Concise Oxford   Leaky Gearbox\\n\\nM\\'Lud.\\n                                   \\nNick Pettefar, Contractor@Large.  /~~~\\\\   \"Teneo tuus intervallum\"\\nCuurrently incarcerated at BNR,  {-O^O-}   npet@bnr.ca  \\'86 BMW K100RS \"Kay\"\\nMaidenhead, The United Kingdom.   \\\\ o /    Pres. PBWASOH(UK),  BS 0002\\n'"
      ]
     },
     "execution_count": 8,
     "metadata": {},
     "output_type": "execute_result"
    }
   ],
   "source": [
    "newsgroups_train.data[0]"
   ]
  },
  {
   "cell_type": "code",
   "execution_count": 9,
   "id": "86961cc5",
   "metadata": {},
   "outputs": [
    {
     "name": "stdout",
     "output_type": "stream",
     "text": [
      "CPU times: user 434 ms, sys: 11.1 ms, total: 445 ms\n",
      "Wall time: 455 ms\n"
     ]
    }
   ],
   "source": [
    "%%time\n",
    "labels = newsgroups_train.target\n",
    "texts = newsgroups_train.data\n",
    "\n",
    "MAX_VOCAB_SIZE = 20000\n",
    "MAX_SEQUENCE_LENGTH = 1000\n",
    "\n",
    "tokenizer = Tokenizer(num_words = MAX_VOCAB_SIZE)\n",
    "tokenizer.fit_on_texts(texts)\n",
    "\n",
    "sequences = tokenizer.texts_to_sequences(texts)"
   ]
  },
  {
   "cell_type": "code",
   "execution_count": 10,
   "id": "4caca7b4",
   "metadata": {},
   "outputs": [
    {
     "name": "stdout",
     "output_type": "stream",
     "text": [
      "[12, 1265, 270, 70, 769, 1233, 20, 33, 1207, 4237]\n",
      "From: npet@bnr.ca (Nick Pettefar)\n",
      "Subject: Re: Happy Easter!\n",
      "Nntp-Posting-Host: bmdhh299\n",
      "Organization: BNR Europe Ltd, Maidenhead, UK\n",
      "X-Newsreader: TIN [version 1.1 PL8]\n",
      "Lines: 37\n",
      "\n",
      "kevinh, on the Tue, 20 Apr 1993 13:23:01 GMT wibbled:\n",
      "\n",
      ": In article <1993Apr19.154020.24818@i88.isc.com>, jeq@lachman.com (Jonathan E. Quist) writes:\n",
      ": |> In article <2514@tekgen.bv.tek.com> davet@interceptor.cds.tek.com (Dave Tharp CDS) writes:\n",
      ": |> >In article <1993Apr15.171757.10890@i88.isc.com> jeq@lachman.com (Jonathan E. Quist) writes:\n",
      ": |> >>Rolls-Royce owned by a non-British firm?\n",
      ": |> >>\n",
      ": |> >>Ye Gods, that would be the end of civilization as we know it.\n",
      ": |> >\n",
      ": |> >  Why not?  Ford owns Aston-Martin and Jaguar, General Motors owns Lotus\n",
      ": |> >and Vauxhall.  Rover is only owned 20% by Honda.\n",
      ": |> \n",
      ": |> Yes, it's a minor blasphemy that U.S. companies would ?? on the likes of A.M.,\n",
      ": |> Jaguar, or (sob) Lotus.  It's outright sacrilege for RR to have non-British\n",
      ": |> ownership.  It's a fundamental thing\n",
      "\n",
      "\n",
      ": I think there is a legal clause in the RR name, regardless of who owns it\n",
      ": it must be a British company/owner - i.e. BA can sell the company but not\n",
      ": the name.\n",
      "\n",
      ": kevinh@hasler.ascom.ch\n",
      "\n",
      "I don't believe that BA have anything to do with RR.  It's a seperate\n",
      "company from the RR Aero-Engine company.  I think that the government\n",
      "own a stake.  Unfortunately they owned a stake of Jaguar too, until\n",
      "they decided to make a quick buck and sold it to Ford.  Bastards.\n",
      "This is definitely the ultimate Arthur-Daley government.\n",
      "--\n",
      "\n",
      "Nick (the Cynical Biker)   DoD 1069   Concise Oxford   Leaky Gearbox\n",
      "\n",
      "M'Lud.\n",
      "                                   \n",
      "Nick Pettefar, Contractor@Large.  /~~~\\   \"Teneo tuus intervallum\"\n",
      "Cuurrently incarcerated at BNR,  {-O^O-}   npet@bnr.ca  '86 BMW K100RS \"Kay\"\n",
      "Maidenhead, The United Kingdom.   \\ o /    Pres. PBWASOH(UK),  BS 0002\n",
      "\n"
     ]
    }
   ],
   "source": [
    "print(sequences[0][:10])\n",
    "print(texts[0])"
   ]
  },
  {
   "cell_type": "code",
   "execution_count": 11,
   "id": "c4591f56",
   "metadata": {},
   "outputs": [
    {
     "name": "stdout",
     "output_type": "stream",
     "text": [
      "Unique tokens: 25458\n"
     ]
    }
   ],
   "source": [
    "word_index = tokenizer.word_index\n",
    "print(\"Unique tokens:\", len(word_index))"
   ]
  },
  {
   "cell_type": "code",
   "execution_count": 12,
   "id": "d87c41a2",
   "metadata": {},
   "outputs": [],
   "source": [
    "data = pad_sequences(sequences, maxlen=MAX_SEQUENCE_LENGTH)"
   ]
  },
  {
   "cell_type": "code",
   "execution_count": 13,
   "id": "548eed1a",
   "metadata": {},
   "outputs": [
    {
     "name": "stdout",
     "output_type": "stream",
     "text": [
      "(1767, 1000)\n",
      "[   0    0    0    0    0    0    0    0    0    0    0    0    0    0\n",
      "    0    0    0    0    0   12 1265  270   70  769 1233   20   33 1207\n",
      " 4237   52   47   49 3173   25  270 2009  999 1735  146  107  402  471\n",
      "  238   34   34 1052   21 1390 3928   15]\n"
     ]
    }
   ],
   "source": [
    "print(data.shape)\n",
    "print(data[0][680:730])"
   ]
  },
  {
   "cell_type": "code",
   "execution_count": 14,
   "id": "4abc768a",
   "metadata": {},
   "outputs": [
    {
     "data": {
      "text/plain": [
       "array([[0., 1., 0.],\n",
       "       [0., 1., 0.],\n",
       "       [1., 0., 0.],\n",
       "       ...,\n",
       "       [0., 0., 1.],\n",
       "       [0., 0., 1.],\n",
       "       [0., 1., 0.]], dtype=float32)"
      ]
     },
     "execution_count": 14,
     "metadata": {},
     "output_type": "execute_result"
    }
   ],
   "source": [
    "labels = to_categorical(np.array(labels))\n",
    "labels"
   ]
  },
  {
   "cell_type": "code",
   "execution_count": 15,
   "id": "0eadadec",
   "metadata": {},
   "outputs": [
    {
     "name": "stdout",
     "output_type": "stream",
     "text": [
      "Data shape: (1767, 1000)\n",
      "Label shape: (1767, 3)\n"
     ]
    }
   ],
   "source": [
    "print('Data shape:', data.shape)\n",
    "print('Label shape:', labels.shape)"
   ]
  },
  {
   "cell_type": "code",
   "execution_count": 16,
   "id": "cecc9722",
   "metadata": {},
   "outputs": [
    {
     "name": "stdout",
     "output_type": "stream",
     "text": [
      "(1414, 1000)\n",
      "(1414, 3)\n",
      "Number of catrgories in traing and validation set \n",
      "[466. 482. 466.]\n",
      "[112. 116. 125.]\n"
     ]
    }
   ],
   "source": [
    "VALIDATION_SPLIT = 0.2\n",
    "\n",
    "indices = np.arange(data.shape[0])\n",
    "np.random.shuffle(indices) \n",
    "data = data[indices] \n",
    "labels = labels[indices] \n",
    "nb_validation_samples = int(VALIDATION_SPLIT * data.shape[0])\n",
    "\n",
    "x_train = data[:-nb_validation_samples] \n",
    "y_train = labels[:-nb_validation_samples] \n",
    "x_val = data[-nb_validation_samples:] \n",
    "y_val = labels[-nb_validation_samples:] \n",
    "\n",
    "print (x_train.shape)\n",
    "print (y_train.shape)\n",
    "\n",
    "print('Number of catrgories in traing and validation set ') \n",
    "print (y_train.sum(axis=0))\n",
    "print (y_val.sum(axis=0))\n"
   ]
  },
  {
   "cell_type": "code",
   "execution_count": 17,
   "id": "b60b1c0f",
   "metadata": {},
   "outputs": [
    {
     "name": "stderr",
     "output_type": "stream",
     "text": [
      "400000it [00:07, 55386.52it/s]"
     ]
    },
    {
     "name": "stdout",
     "output_type": "stream",
     "text": [
      "Words vectors: 400000\n",
      "CPU times: user 6.75 s, sys: 414 ms, total: 7.17 s\n",
      "Wall time: 7.24 s\n"
     ]
    },
    {
     "name": "stderr",
     "output_type": "stream",
     "text": [
      "\n"
     ]
    }
   ],
   "source": [
    "%%time \n",
    "embeddings_index = {}\n",
    "\n",
    "f = open('./dataset/glove.6B.100d.txt')\n",
    "for line in tqdm(f):\n",
    "    values = line.split(' ')\n",
    "    word = values[0] \n",
    "    coefs = np.asarray(values[1:], dtype='float32')\n",
    "    embeddings_index[word] = coefs\n",
    "f.close()\n",
    "\n",
    "print(\"Words vectors:\", len(embeddings_index))"
   ]
  },
  {
   "cell_type": "code",
   "execution_count": 18,
   "id": "686e0221",
   "metadata": {},
   "outputs": [],
   "source": [
    "EMBEDDING_DIM = 100"
   ]
  },
  {
   "cell_type": "code",
   "execution_count": 19,
   "id": "b69aee78",
   "metadata": {},
   "outputs": [],
   "source": [
    "embedding_matrix = np.random.random( (len(word_index) + 1, EMBEDDING_DIM) )"
   ]
  },
  {
   "cell_type": "code",
   "execution_count": 20,
   "id": "c90e4d82",
   "metadata": {},
   "outputs": [
    {
     "data": {
      "text/plain": [
       "array([[0.09138459, 0.8589186 , 0.54230628, ..., 0.89130665, 0.46599401,\n",
       "        0.13414941],\n",
       "       [0.26434474, 0.73574777, 0.41605134, ..., 0.66429079, 0.33587481,\n",
       "        0.80688877],\n",
       "       [0.30217203, 0.79246312, 0.10575148, ..., 0.23363636, 0.51039705,\n",
       "        0.79246507],\n",
       "       ...,\n",
       "       [0.64861091, 0.62442504, 0.11017971, ..., 0.24217603, 0.06489035,\n",
       "        0.17235702],\n",
       "       [0.65556883, 0.62422751, 0.00545619, ..., 0.52761987, 0.65978224,\n",
       "        0.26078344],\n",
       "       [0.02492586, 0.45034826, 0.8456187 , ..., 0.97081595, 0.86340654,\n",
       "        0.34468581]])"
      ]
     },
     "execution_count": 20,
     "metadata": {},
     "output_type": "execute_result"
    }
   ],
   "source": [
    "embedding_matrix"
   ]
  },
  {
   "cell_type": "code",
   "execution_count": 21,
   "id": "eb9cfe46",
   "metadata": {},
   "outputs": [
    {
     "name": "stdout",
     "output_type": "stream",
     "text": [
      "(25459, 100)\n"
     ]
    }
   ],
   "source": [
    "for word, i in word_index.items():\n",
    "    # embedding 된 단어를 glove.6B.100d에 존재하는지 검색\n",
    "    embedding_vector = embeddings_index.get(word)\n",
    "    if embedding_vector is not None:\n",
    "        embedding_matrix[i] = embedding_vector # glove.6B.100d의 벡터값을 embedding 단어에 지정\n",
    "\n",
    "print(embedding_matrix.shape)"
   ]
  },
  {
   "cell_type": "code",
   "execution_count": 22,
   "id": "e2f3349a",
   "metadata": {},
   "outputs": [
    {
     "name": "stdout",
     "output_type": "stream",
     "text": [
      "[0.09138459 0.8589186  0.54230628 0.32123068 0.77430148 0.34165801\n",
      " 0.38780072 0.03342535 0.89969925 0.954677  ]\n"
     ]
    }
   ],
   "source": [
    "print(embedding_matrix[0][:10])"
   ]
  },
  {
   "cell_type": "code",
   "execution_count": 23,
   "id": "a7db950d",
   "metadata": {},
   "outputs": [
    {
     "name": "stderr",
     "output_type": "stream",
     "text": [
      "2022-03-23 14:42:58.987706: I tensorflow/core/platform/cpu_feature_guard.cc:151] This TensorFlow binary is optimized with oneAPI Deep Neural Network Library (oneDNN) to use the following CPU instructions in performance-critical operations:  AVX2 AVX512F FMA\n",
      "To enable them in other operations, rebuild TensorFlow with the appropriate compiler flags.\n"
     ]
    },
    {
     "name": "stdout",
     "output_type": "stream",
     "text": [
      "Model: \"model\"\n",
      "__________________________________________________________________________________________________\n",
      " Layer (type)                   Output Shape         Param #     Connected to                     \n",
      "==================================================================================================\n",
      " input_1 (InputLayer)           [(None, 1000)]       0           []                               \n",
      "                                                                                                  \n",
      " embedding (Embedding)          (None, 1000, 100)    2545900     ['input_1[0][0]']                \n",
      "                                                                                                  \n",
      " conv1d (Conv1D)                (None, 998, 128)     38528       ['embedding[0][0]']              \n",
      "                                                                                                  \n",
      " conv1d_1 (Conv1D)              (None, 997, 128)     51328       ['embedding[0][0]']              \n",
      "                                                                                                  \n",
      " conv1d_2 (Conv1D)              (None, 996, 128)     64128       ['embedding[0][0]']              \n",
      "                                                                                                  \n",
      " max_pooling1d (MaxPooling1D)   (None, 199, 128)     0           ['conv1d[0][0]']                 \n",
      "                                                                                                  \n",
      " max_pooling1d_1 (MaxPooling1D)  (None, 199, 128)    0           ['conv1d_1[0][0]']               \n",
      "                                                                                                  \n",
      " max_pooling1d_2 (MaxPooling1D)  (None, 199, 128)    0           ['conv1d_2[0][0]']               \n",
      "                                                                                                  \n",
      " concatenate (Concatenate)      (None, 597, 128)     0           ['max_pooling1d[0][0]',          \n",
      "                                                                  'max_pooling1d_1[0][0]',        \n",
      "                                                                  'max_pooling1d_2[0][0]']        \n",
      "                                                                                                  \n",
      " conv1d_3 (Conv1D)              (None, 593, 128)     82048       ['concatenate[0][0]']            \n",
      "                                                                                                  \n",
      " max_pooling1d_3 (MaxPooling1D)  (None, 118, 128)    0           ['conv1d_3[0][0]']               \n",
      "                                                                                                  \n",
      " conv1d_4 (Conv1D)              (None, 114, 128)     82048       ['max_pooling1d_3[0][0]']        \n",
      "                                                                                                  \n",
      " max_pooling1d_4 (MaxPooling1D)  (None, 22, 128)     0           ['conv1d_4[0][0]']               \n",
      "                                                                                                  \n",
      " flatten (Flatten)              (None, 2816)         0           ['max_pooling1d_4[0][0]']        \n",
      "                                                                                                  \n",
      " dense (Dense)                  (None, 128)          360576      ['flatten[0][0]']                \n",
      "                                                                                                  \n",
      " dense_1 (Dense)                (None, 3)            387         ['dense[0][0]']                  \n",
      "                                                                                                  \n",
      "==================================================================================================\n",
      "Total params: 3,224,943\n",
      "Trainable params: 679,043\n",
      "Non-trainable params: 2,545,900\n",
      "__________________________________________________________________________________________________\n"
     ]
    }
   ],
   "source": [
    "# Generate a model\n",
    "convs = []\n",
    "filter_sizes = [3,4,5]\n",
    "\n",
    "embedding_layer = Embedding(len(word_index) + 1, EMBEDDING_DIM,\n",
    "                           weights=[embedding_matrix],\n",
    "                           input_length=MAX_SEQUENCE_LENGTH,\n",
    "                           trainable=False)\n",
    "\n",
    "sequence_input = Input(shape=(MAX_SEQUENCE_LENGTH,), dtype='int32')\n",
    "embedded_sequences = embedding_layer(sequence_input)\n",
    "\n",
    "# RNN, LSTM, GRU \n",
    "# DNN \n",
    "for filter_size in filter_sizes:\n",
    "    conv = Conv1D(filters=128, kernel_size=filter_size, activation='relu')(embedded_sequences)\n",
    "    pool = MaxPooling1D(5)(conv)\n",
    "    convs.append(pool)\n",
    "\n",
    "merged_convs = Concatenate(axis=1)(convs)\n",
    "\n",
    "conv1 = Conv1D(128, 5, activation='relu')(merged_convs)\n",
    "pool1 = MaxPooling1D(5)(conv1)\n",
    "conv2 = Conv1D(128, 5, activation='relu')(pool1)\n",
    "pool2 = MaxPooling1D(5)(conv2)\n",
    "flat = Flatten()(pool2)\n",
    "dense = Dense(128, activation='relu')(flat)\n",
    "preds = Dense(3, activation='softmax')(dense)\n",
    "\n",
    "model = Model(sequence_input, preds)\n",
    "\n",
    "model.compile(loss='categorical_crossentropy', optimizer='adam', metrics=['acc'])\n",
    "\n",
    "model.summary()\n",
    "    "
   ]
  },
  {
   "cell_type": "code",
   "execution_count": 24,
   "id": "6740de09",
   "metadata": {},
   "outputs": [
    {
     "name": "stdout",
     "output_type": "stream",
     "text": [
      "Epoch 1/10\n",
      "12/12 [==============================] - 8s 590ms/step - loss: 1.3111 - acc: 0.3479 - val_loss: 1.1253 - val_acc: 0.3173\n",
      "Epoch 2/10\n",
      "12/12 [==============================] - 8s 643ms/step - loss: 1.0993 - acc: 0.3487 - val_loss: 1.1257 - val_acc: 0.3654\n",
      "Epoch 3/10\n",
      "12/12 [==============================] - 8s 663ms/step - loss: 1.0958 - acc: 0.3784 - val_loss: 1.1037 - val_acc: 0.3541\n",
      "Epoch 4/10\n",
      "12/12 [==============================] - 8s 679ms/step - loss: 1.0595 - acc: 0.4151 - val_loss: 1.0884 - val_acc: 0.3569\n",
      "Epoch 5/10\n",
      "12/12 [==============================] - 7s 613ms/step - loss: 0.9674 - acc: 0.5134 - val_loss: 0.8334 - val_acc: 0.6006\n",
      "Epoch 6/10\n",
      "12/12 [==============================] - 7s 622ms/step - loss: 0.6944 - acc: 0.6768 - val_loss: 0.8018 - val_acc: 0.6516\n",
      "Epoch 7/10\n",
      "12/12 [==============================] - 7s 622ms/step - loss: 0.5651 - acc: 0.7567 - val_loss: 0.5477 - val_acc: 0.7365\n",
      "Epoch 8/10\n",
      "12/12 [==============================] - 7s 596ms/step - loss: 0.4184 - acc: 0.8416 - val_loss: 0.6279 - val_acc: 0.6884\n",
      "Epoch 9/10\n",
      "12/12 [==============================] - 7s 599ms/step - loss: 0.3573 - acc: 0.8444 - val_loss: 0.5594 - val_acc: 0.7479\n",
      "Epoch 10/10\n",
      "12/12 [==============================] - 8s 635ms/step - loss: 0.2764 - acc: 0.8861 - val_loss: 0.4352 - val_acc: 0.8385\n"
     ]
    }
   ],
   "source": [
    "r = model.fit(x_train, y_train, validation_data=(x_val, y_val), epochs=10, batch_size=128)"
   ]
  },
  {
   "cell_type": "code",
   "execution_count": 25,
   "id": "7ceb79c9",
   "metadata": {},
   "outputs": [
    {
     "data": {
      "image/png": "[encoded data removed]",
      "text/plain": [
       "<Figure size 360x216 with 1 Axes>"
      ]
     },
     "metadata": {
      "needs_background": "light"
     },
     "output_type": "display_data"
    },
    {
     "data": {
      "image/png": "[encoded data removed]",
      "text/plain": [
       "<Figure size 360x216 with 1 Axes>"
      ]
     },
     "metadata": {
      "needs_background": "light"
     },
     "output_type": "display_data"
    }
   ],
   "source": [
    "plt.figure(figsize=(5,3))\n",
    "plt.plot(r.history['loss'], marker='.', label='train')\n",
    "plt.plot(r.history['val_loss'], marker='.', label='validation')\n",
    "plt.title('Loss')\n",
    "plt.grid(True)\n",
    "plt.xlabel('epochs')\n",
    "plt.ylabel('loss')\n",
    "plt.legend(loc='best')\n",
    "plt.show()\n",
    "\n",
    "plt.figure(figsize=(5,3))\n",
    "plt.plot(r.history['acc'], marker='.', label='train')\n",
    "plt.plot(r.history['val_acc'], marker='.', label='validation')\n",
    "plt.title('Accuracy')\n",
    "plt.grid(True)\n",
    "plt.xlabel('epocs')\n",
    "plt.ylabel('loss')\n",
    "plt.legend(loc='best')\n",
    "plt.show()"
   ]
  },
  {
   "cell_type": "code",
   "execution_count": 38,
   "id": "a2b8999c",
   "metadata": {},
   "outputs": [],
   "source": [
    "# article= '''Rugged mountains, vast valleys, wild rivers, dense forests and a fantastic coastline: BMW Motorrad will be bringing the International GS Trophy to Albania between 4 and 10 September 2022. The country, which is considered an insider tip for off-road touring, is incredibly rich in flora, fauna and culture. The best Enduro riders in the world can look forward to discovering this as yet quite unknown beauty on their GS bikes, in numerous special stages of the action-packed competition, and experience the #SpiritOfGS up close.'''\n",
    "article= '''The new Mac Studio has officially arrived. Whether you look at it as a ‘mini Mac Pro’ or a ‘Pro Mac mini,’ it’s an impressive machine that packs a major punch. Head below for our very early and quick look at the new Mac Studio in the real world.\n",
    "The Mac Studio features what has turned out to be somewhat of a polarizing design. It’s essentially the size of three Mac minis stacked on top of each other. Think of it as a Mac mini, but stretched. It’s a bit odd-looking in real-life, but not necessarily in a bad way. Just different.\n",
    "On the back of the Mac Studio, you’ll find a really unique perforated cooling design. I didn’t count them, but Apple says there are over 4,000 perforations on the back and bottom of the Mac Studio “to help cool the high-performance chips” inside the machine.\n",
    "But where the Mac Studio really shines is with its I/O options. On the front, there are two USB-C ports and an SD card slot. If you opted for the M1 Ultra (which I did not), those USB-C ports on the front are also Thunderbolt 4 capable.\n",
    "'''"
   ]
  },
  {
   "cell_type": "code",
   "execution_count": 39,
   "id": "e2cc2a1b",
   "metadata": {},
   "outputs": [],
   "source": [
    "test_sequences = tokenizer.texts_to_sequences([article])"
   ]
  },
  {
   "cell_type": "code",
   "execution_count": 40,
   "id": "5d77c1d8",
   "metadata": {},
   "outputs": [],
   "source": [
    "test_sequences_padding = pad_sequences(test_sequences, maxlen=MAX_SEQUENCE_LENGTH)"
   ]
  },
  {
   "cell_type": "code",
   "execution_count": 41,
   "id": "145d7510",
   "metadata": {},
   "outputs": [],
   "source": [
    "score = model.predict(test_sequences_padding)"
   ]
  },
  {
   "cell_type": "code",
   "execution_count": 42,
   "id": "ca452b0e",
   "metadata": {},
   "outputs": [
    {
     "name": "stdout",
     "output_type": "stream",
     "text": [
      "[[9.8758209e-01 7.8571873e-05 1.2339355e-02]]\n"
     ]
    }
   ],
   "source": [
    "print(score)"
   ]
  },
  {
   "cell_type": "code",
   "execution_count": 43,
   "id": "dbc7bc00",
   "metadata": {},
   "outputs": [
    {
     "data": {
      "text/plain": [
       "0"
      ]
     },
     "execution_count": 43,
     "metadata": {},
     "output_type": "execute_result"
    }
   ],
   "source": [
    "np.argmax(score)"
   ]
  },
  {
   "cell_type": "code",
   "execution_count": 44,
   "id": "b9cf7d5f",
   "metadata": {},
   "outputs": [
    {
     "name": "stdout",
     "output_type": "stream",
     "text": [
      "Predict cateogry:  comp.sys.mac.hardware\n"
     ]
    }
   ],
   "source": [
    "print(\"Predict cateogry: \", categories[np.argmax(score)])"
   ]
  }
 ],
 "metadata": {
  "kernelspec": {
   "display_name": "Python 3 (ipykernel)",
   "language": "python",
   "name": "python3"
  },
  "language_info": {
   "codemirror_mode": {
    "name": "ipython",
    "version": 3
   },
   "file_extension": ".py",
   "mimetype": "text/x-python",
   "name": "python",
   "nbconvert_exporter": "python",
   "pygments_lexer": "ipython3",
   "version": "3.9.7"
  }
 },
 "nbformat": 4,
 "nbformat_minor": 5
}
