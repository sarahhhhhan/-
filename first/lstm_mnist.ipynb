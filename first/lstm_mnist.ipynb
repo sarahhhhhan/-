{
 "cells": [
  {
   "cell_type": "code",
   "execution_count": 1,
   "id": "d2acce06",
   "metadata": {},
   "outputs": [],
   "source": [
    "from tensorflow.keras.layers import Input, SimpleRNN, GRU, LSTM, Dense, Flatten, GlobalMaxPool1D\n",
    "from tensorflow.keras.models import Model, Sequential\n",
    "from tensorflow.keras.optimizers import SGD, Adam\n",
    "\n",
    "import tensorflow as tf\n",
    "import numpy as np\n",
    "import pandas as pd\n",
    "import matplotlib.pyplot as plt"
   ]
  },
  {
   "cell_type": "code",
   "execution_count": 2,
   "id": "a73e5350",
   "metadata": {},
   "outputs": [],
   "source": [
    "dataset = tf.keras.datasets.mnist\n",
    "\n",
    "(X_train, Y_train), (X_test, Y_test) = dataset.load_data()"
   ]
  },
  {
   "cell_type": "code",
   "execution_count": 3,
   "id": "f8a5d491",
   "metadata": {},
   "outputs": [
    {
     "name": "stdout",
     "output_type": "stream",
     "text": [
      "X_train.shape: (60000, 28, 28)\n"
     ]
    }
   ],
   "source": [
    "print(f\"X_train.shape: {X_train.shape}\")"
   ]
  },
  {
   "cell_type": "code",
   "execution_count": 4,
   "id": "6b95b7a4",
   "metadata": {},
   "outputs": [],
   "source": [
    "X_train, X_test = X_train/255.0, X_test/255.0"
   ]
  },
  {
   "cell_type": "code",
   "execution_count": 5,
   "id": "62138eb8",
   "metadata": {},
   "outputs": [
    {
     "data": {
      "text/plain": [
       "(28, 28)"
      ]
     },
     "execution_count": 5,
     "metadata": {},
     "output_type": "execute_result"
    }
   ],
   "source": [
    "X_train[0].shape"
   ]
  },
  {
   "cell_type": "code",
   "execution_count": 6,
   "id": "52d68129",
   "metadata": {},
   "outputs": [
    {
     "name": "stderr",
     "output_type": "stream",
     "text": [
      "2022-03-18 09:16:40.639137: I tensorflow/core/platform/cpu_feature_guard.cc:151] This TensorFlow binary is optimized with oneAPI Deep Neural Network Library (oneDNN) to use the following CPU instructions in performance-critical operations:  AVX2 FMA\n",
      "To enable them in other operations, rebuild TensorFlow with the appropriate compiler flags.\n"
     ]
    }
   ],
   "source": [
    "# build a model\n",
    "i = Input(shape=X_train[0].shape) # T x D\n",
    "x = LSTM(128)(i)\n",
    "x = Dense(10, activation='softmax')(x)\n",
    "model = Model(i, x)\n",
    "model.compile(loss='sparse_categorical_crossentropy', optimizer='adam', metrics=['accuracy'])"
   ]
  },
  {
   "cell_type": "code",
   "execution_count": 7,
   "id": "172b29e4",
   "metadata": {},
   "outputs": [
    {
     "name": "stdout",
     "output_type": "stream",
     "text": [
      "Epoch 1/20\n",
      "1875/1875 [==============================] - 98s 52ms/step - loss: 0.3268 - accuracy: 0.8955 - val_loss: 0.1161 - val_accuracy: 0.9655\n",
      "Epoch 2/20\n",
      "1875/1875 [==============================] - 143s 76ms/step - loss: 0.1008 - accuracy: 0.9694 - val_loss: 0.1034 - val_accuracy: 0.9678\n",
      "Epoch 3/20\n",
      "1875/1875 [==============================] - 150s 80ms/step - loss: 0.0686 - accuracy: 0.9793 - val_loss: 0.0600 - val_accuracy: 0.9817\n",
      "Epoch 4/20\n",
      "1875/1875 [==============================] - 152s 81ms/step - loss: 0.0532 - accuracy: 0.9843 - val_loss: 0.0552 - val_accuracy: 0.9834\n",
      "Epoch 5/20\n",
      "1875/1875 [==============================] - 155s 83ms/step - loss: 0.0466 - accuracy: 0.9856 - val_loss: 0.0519 - val_accuracy: 0.9843\n",
      "Epoch 6/20\n",
      "1875/1875 [==============================] - 162s 86ms/step - loss: 0.0366 - accuracy: 0.9888 - val_loss: 0.0483 - val_accuracy: 0.9849\n",
      "Epoch 7/20\n",
      "1875/1875 [==============================] - 170s 91ms/step - loss: 0.0306 - accuracy: 0.9907 - val_loss: 0.0514 - val_accuracy: 0.9842\n",
      "Epoch 8/20\n",
      "1875/1875 [==============================] - 196s 104ms/step - loss: 0.0289 - accuracy: 0.9912 - val_loss: 0.0380 - val_accuracy: 0.9881\n",
      "Epoch 9/20\n",
      "1875/1875 [==============================] - 187s 100ms/step - loss: 0.0230 - accuracy: 0.9928 - val_loss: 0.0396 - val_accuracy: 0.9885\n",
      "Epoch 10/20\n",
      "1875/1875 [==============================] - 133s 71ms/step - loss: 0.0225 - accuracy: 0.9928 - val_loss: 0.0407 - val_accuracy: 0.9880\n",
      "Epoch 11/20\n",
      "1875/1875 [==============================] - 114s 61ms/step - loss: 0.0171 - accuracy: 0.9949 - val_loss: 0.0457 - val_accuracy: 0.9872\n",
      "Epoch 12/20\n",
      "1875/1875 [==============================] - 142s 76ms/step - loss: 0.0173 - accuracy: 0.9945 - val_loss: 0.0462 - val_accuracy: 0.9864\n",
      "Epoch 13/20\n",
      "1875/1875 [==============================] - 140s 75ms/step - loss: 0.0169 - accuracy: 0.9947 - val_loss: 0.0316 - val_accuracy: 0.9907\n",
      "Epoch 14/20\n",
      "1875/1875 [==============================] - 128s 69ms/step - loss: 0.0146 - accuracy: 0.9953 - val_loss: 0.0407 - val_accuracy: 0.9887\n",
      "Epoch 15/20\n",
      "1875/1875 [==============================] - 132s 70ms/step - loss: 0.0133 - accuracy: 0.9958 - val_loss: 0.0387 - val_accuracy: 0.9894\n",
      "Epoch 16/20\n",
      "1875/1875 [==============================] - 146s 78ms/step - loss: 0.0124 - accuracy: 0.9961 - val_loss: 0.0459 - val_accuracy: 0.9878\n",
      "Epoch 17/20\n",
      "1875/1875 [==============================] - 132s 71ms/step - loss: 0.0117 - accuracy: 0.9962 - val_loss: 0.0387 - val_accuracy: 0.9894\n",
      "Epoch 18/20\n",
      "1875/1875 [==============================] - 124s 66ms/step - loss: 0.0106 - accuracy: 0.9963 - val_loss: 0.0459 - val_accuracy: 0.9886\n",
      "Epoch 19/20\n",
      "1875/1875 [==============================] - 155s 83ms/step - loss: 0.0094 - accuracy: 0.9971 - val_loss: 0.0505 - val_accuracy: 0.9877\n",
      "Epoch 20/20\n",
      "1875/1875 [==============================] - 167s 89ms/step - loss: 0.0105 - accuracy: 0.9965 - val_loss: 0.0454 - val_accuracy: 0.9897\n"
     ]
    }
   ],
   "source": [
    "r = model.fit(X_train, Y_train, epochs=20, validation_data=(X_test, Y_test))"
   ]
  },
  {
   "cell_type": "code",
   "execution_count": 9,
   "id": "07f94715",
   "metadata": {},
   "outputs": [
    {
     "data": {
      "text/plain": [
       "<matplotlib.legend.Legend at 0x7fea781588b0>"
      ]
     },
     "execution_count": 9,
     "metadata": {},
     "output_type": "execute_result"
    },
    {
     "data": {
      "image/png": "[encoded data removed]",
      "text/plain": [
       "<Figure size 432x288 with 1 Axes>"
      ]
     },
     "metadata": {
      "needs_background": "light"
     },
     "output_type": "display_data"
    }
   ],
   "source": [
    "plt.plot(r.history['loss'], label='loss')\n",
    "plt.plot(r.history['val_loss'], label='val_loss')\n",
    "plt.legend()"
   ]
  },
  {
   "cell_type": "code",
   "execution_count": 10,
   "id": "542d5662",
   "metadata": {},
   "outputs": [
    {
     "data": {
      "text/plain": [
       "<matplotlib.legend.Legend at 0x7feb01de4f40>"
      ]
     },
     "execution_count": 10,
     "metadata": {},
     "output_type": "execute_result"
    },
    {
     "data": {
      "image/png": "[encoded data removed]",
      "text/plain": [
       "<Figure size 432x288 with 1 Axes>"
      ]
     },
     "metadata": {
      "needs_background": "light"
     },
     "output_type": "display_data"
    }
   ],
   "source": [
    "plt.plot(r.history['accuracy'], label='accuracy')\n",
    "plt.plot(r.history['val_accuracy'], label='val_accuracy')\n",
    "plt.legend()"
   ]
  },
  {
   "cell_type": "code",
   "execution_count": 11,
   "id": "792eb890",
   "metadata": {},
   "outputs": [],
   "source": [
    "from sklearn.metrics import confusion_matrix\n",
    "import itertools\n",
    "\n",
    "def plot_confusion_matrix(cm, classes, normalize=False, \n",
    "                          title='Confusion matrix', cmap=plt.cm.Blues):\n",
    "  \"\"\"\n",
    "  This function prints and plots the confusion matrix.\n",
    "  Normalization can be applied by setting `normalize=True`.\n",
    "  \"\"\"\n",
    "  if normalize:\n",
    "    cm = cm.astype('float') / cm.sum(axis=1)[:, np.newaxis]\n",
    "    print(\"Normalized confusion matrix\")\n",
    "  else:\n",
    "    print('Confusion matrix, without normalization')\n",
    "\n",
    "  print(cm)\n",
    "\n",
    "  plt.imshow(cm, interpolation='nearest', cmap=cmap)\n",
    "  plt.title(title)\n",
    "  plt.colorbar()\n",
    "  tick_marks = np.arange(len(classes))\n",
    "  plt.xticks(tick_marks, classes, rotation=45)\n",
    "  plt.yticks(tick_marks, classes)\n",
    "\n",
    "  fmt = '.2f' if normalize else 'd'\n",
    "  thresh = cm.max() / 2.\n",
    "  for i, j in itertools.product(range(cm.shape[0]), range(cm.shape[1])):\n",
    "    plt.text(j, i, format(cm[i, j], fmt),\n",
    "             horizontalalignment=\"center\",\n",
    "             color=\"white\" if cm[i, j] > thresh else \"black\")\n",
    "  \n",
    "  plt.tight_layout()\n",
    "  plt.ylabel('True label')\n",
    "  plt.xlabel('Predicted label')\n",
    "  plt.show()\n"
   ]
  },
  {
   "cell_type": "code",
   "execution_count": 12,
   "id": "75d2a34a",
   "metadata": {},
   "outputs": [
    {
     "name": "stdout",
     "output_type": "stream",
     "text": [
      "Confusion matrix, without normalization\n",
      "[[ 977    0    0    0    0    0    1    1    1    0]\n",
      " [   0 1132    1    1    0    0    0    0    1    0]\n",
      " [   2    0 1023    1    0    0    0    6    0    0]\n",
      " [   0    0    3 1002    0    2    0    0    3    0]\n",
      " [   0    1    0    0  957    0    5    1    1   17]\n",
      " [   1    0    1    6    0  877    2    1    4    0]\n",
      " [   0    2    1    0    1    3  950    0    1    0]\n",
      " [   0    3    4    1    0    0    0 1018    0    2]\n",
      " [   0    0    1    1    0    2    1    3  964    2]\n",
      " [   0    0    0    1    1    3    0    3    4  997]]\n"
     ]
    },
    {
     "data": {
      "image/png": "[encoded data removed]",
      "text/plain": [
       "<Figure size 432x288 with 2 Axes>"
      ]
     },
     "metadata": {
      "needs_background": "light"
     },
     "output_type": "display_data"
    }
   ],
   "source": [
    "p_test = model.predict(X_test).argmax(axis=1)\n",
    "cm = confusion_matrix(Y_test, p_test)\n",
    "plot_confusion_matrix(cm, list(range(10)))"
   ]
  },
  {
   "cell_type": "code",
   "execution_count": 14,
   "id": "0134f456",
   "metadata": {},
   "outputs": [
    {
     "data": {
      "text/plain": [
       "103"
      ]
     },
     "execution_count": 14,
     "metadata": {},
     "output_type": "execute_result"
    }
   ],
   "source": [
    "misclassified_idx = np.where(p_test != Y_test)[0]\n",
    "len(misclassified_idx)"
   ]
  },
  {
   "cell_type": "code",
   "execution_count": 16,
   "id": "4082d191",
   "metadata": {},
   "outputs": [
    {
     "data": {
      "text/plain": [
       "Text(0.5, 1.0, 'True label: 1, Predicted: 2')"
      ]
     },
     "execution_count": 16,
     "metadata": {},
     "output_type": "execute_result"
    },
    {
     "data": {
      "image/png": "[encoded data removed]",
      "text/plain": [
       "<Figure size 432x288 with 1 Axes>"
      ]
     },
     "metadata": {
      "needs_background": "light"
     },
     "output_type": "display_data"
    }
   ],
   "source": [
    "idx = np.random.choice(misclassified_idx)\n",
    "plt.imshow(X_test[idx], cmap='gray')\n",
    "plt.title(f\"True label: {Y_test[idx]}, Predicted: {p_test[idx]}\")"
   ]
  }
 ],
 "metadata": {
  "kernelspec": {
   "display_name": "Python 3 (ipykernel)",
   "language": "python",
   "name": "python3"
  },
  "language_info": {
   "codemirror_mode": {
    "name": "ipython",
    "version": 3
   },
   "file_extension": ".py",
   "mimetype": "text/x-python",
   "name": "python",
   "nbconvert_exporter": "python",
   "pygments_lexer": "ipython3",
   "version": "3.9.7"
  }
 },
 "nbformat": 4,
 "nbformat_minor": 5
}
