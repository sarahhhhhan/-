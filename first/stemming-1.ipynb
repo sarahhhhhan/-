{
 "cells": [
  {
   "cell_type": "code",
   "execution_count": 2,
   "id": "25a74d7d",
   "metadata": {},
   "outputs": [],
   "source": [
    "from nltk.stem import PorterStemmer\n",
    "from nltk.tokenize import word_tokenize"
   ]
  },
  {
   "cell_type": "code",
   "execution_count": 4,
   "id": "db12a6bc",
   "metadata": {},
   "outputs": [],
   "source": [
    "stemmer = PorterStemmer()\n",
    "\n",
    "sentence = \"But NASA says that plans for Vande Hei to arrive in Kazakhstan on March 30, 2022, have not changed. By then, he would have spent 355 days in space. The world record of 438 continuous days in space belongs to Russia.\"\n",
    "\n",
    "tokenized_sentence = word_tokenize(sentence)"
   ]
  },
  {
   "cell_type": "code",
   "execution_count": 5,
   "id": "27f32402",
   "metadata": {},
   "outputs": [
    {
     "name": "stdout",
     "output_type": "stream",
     "text": [
      "어간 추출 전:['But', 'NASA', 'says', 'that', 'plans', 'for', 'Vande', 'Hei', 'to', 'arrive', 'in', 'Kazakhstan', 'on', 'March', '30', ',', '2022', ',', 'have', 'not', 'changed', '.', 'By', 'then', ',', 'he', 'would', 'have', 'spent', '355', 'days', 'in', 'space', '.', 'The', 'world', 'record', 'of', '438', 'continuous', 'days', 'in', 'space', 'belongs', 'to', 'Russia', '.']\n"
     ]
    }
   ],
   "source": [
    "print(f\"어간 추출 전:{tokenized_sentence}\")"
   ]
  },
  {
   "cell_type": "code",
   "execution_count": 9,
   "id": "d9827ff3",
   "metadata": {},
   "outputs": [
    {
     "name": "stdout",
     "output_type": "stream",
     "text": [
      "어간 추출 후: ['but', 'nasa', 'say', 'that', 'plan', 'for', 'vand', 'hei', 'to', 'arriv', 'in', 'kazakhstan', 'on', 'march', '30', ',', '2022', ',', 'have', 'not', 'chang', '.', 'by', 'then', ',', 'he', 'would', 'have', 'spent', '355', 'day', 'in', 'space', '.', 'the', 'world', 'record', 'of', '438', 'continu', 'day', 'in', 'space', 'belong', 'to', 'russia', '.']\n"
     ]
    }
   ],
   "source": [
    "print(\"어간 추출 후:\", [stemmer.stem(word) for word in tokenized_sentence])"
   ]
  },
  {
   "cell_type": "code",
   "execution_count": 10,
   "id": "28680a4f",
   "metadata": {},
   "outputs": [
    {
     "name": "stdout",
     "output_type": "stream",
     "text": [
      "어간 추출 전 ['formalize', 'allowance', 'electricical']\n",
      "어간 추출 후 ['formal', 'allow', 'electric']\n"
     ]
    }
   ],
   "source": [
    "words = ['formalize', 'allowance', 'electricical']\n",
    "\n",
    "print(\"어간 추출 전\", words)\n",
    "print(\"어간 추출 후\", [stemmer.stem(word) for word in words])"
   ]
  },
  {
   "cell_type": "code",
   "execution_count": 12,
   "id": "ba5dd981",
   "metadata": {},
   "outputs": [
    {
     "name": "stdout",
     "output_type": "stream",
     "text": [
      "어간 추출 후 ['form', 'allow', 'elect']\n"
     ]
    }
   ],
   "source": [
    "from nltk.stem import LancasterStemmer\n",
    "\n",
    "ls = LancasterStemmer()\n",
    "print(\"어간 추출 후\", [ls.stem(word) for word in words])"
   ]
  },
  {
   "cell_type": "code",
   "execution_count": 13,
   "id": "365301ba",
   "metadata": {},
   "outputs": [],
   "source": [
    "# going -> go, having -> hav "
   ]
  },
  {
   "cell_type": "code",
   "execution_count": 14,
   "id": "35c5125b",
   "metadata": {},
   "outputs": [],
   "source": [
    "words = ['policy', 'doing', 'organization', 'have', 'going', 'love', 'lives', 'fly', 'dies', 'watched', 'has', 'starting']"
   ]
  },
  {
   "cell_type": "code",
   "execution_count": 15,
   "id": "a5d42260",
   "metadata": {},
   "outputs": [
    {
     "name": "stdout",
     "output_type": "stream",
     "text": [
      "PorterStemmer 어간 추출 후 ['polici', 'do', 'organ', 'have', 'go', 'love', 'live', 'fli', 'die', 'watch', 'ha', 'start']\n",
      "LancasterStemmer 어간 추출 후 ['policy', 'doing', 'org', 'hav', 'going', 'lov', 'liv', 'fly', 'die', 'watch', 'has', 'start']\n"
     ]
    }
   ],
   "source": [
    "print(\"PorterStemmer 어간 추출 후\", [stemmer.stem(word) for word in words])\n",
    "print(\"LancasterStemmer 어간 추출 후\", [ls.stem(word) for word in words])"
   ]
  }
 ],
 "metadata": {
  "kernelspec": {
   "display_name": "Python 3 (ipykernel)",
   "language": "python",
   "name": "python3"
  },
  "language_info": {
   "codemirror_mode": {
    "name": "ipython",
    "version": 3
   },
   "file_extension": ".py",
   "mimetype": "text/x-python",
   "name": "python",
   "nbconvert_exporter": "python",
   "pygments_lexer": "ipython3",
   "version": "3.9.7"
  }
 },
 "nbformat": 4,
 "nbformat_minor": 5
}
