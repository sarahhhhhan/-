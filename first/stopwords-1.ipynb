{
 "cells": [
  {
   "cell_type": "code",
   "execution_count": 1,
   "id": "bc290c26",
   "metadata": {},
   "outputs": [],
   "source": [
    "from nltk.corpus import stopwords\n",
    "from nltk.tokenize import word_tokenize\n",
    "from konlpy.tag import Okt"
   ]
  },
  {
   "cell_type": "code",
   "execution_count": 2,
   "id": "e23d4d5e",
   "metadata": {},
   "outputs": [
    {
     "name": "stdout",
     "output_type": "stream",
     "text": [
      "179\n"
     ]
    }
   ],
   "source": [
    "stop_words = stopwords.words('english')\n",
    "print(len(stop_words))"
   ]
  },
  {
   "cell_type": "code",
   "execution_count": 3,
   "id": "568ae988",
   "metadata": {},
   "outputs": [
    {
     "data": {
      "text/plain": [
       "['i',\n",
       " 'me',\n",
       " 'my',\n",
       " 'myself',\n",
       " 'we',\n",
       " 'our',\n",
       " 'ours',\n",
       " 'ourselves',\n",
       " 'you',\n",
       " \"you're\",\n",
       " \"you've\",\n",
       " \"you'll\",\n",
       " \"you'd\",\n",
       " 'your',\n",
       " 'yours',\n",
       " 'yourself',\n",
       " 'yourselves',\n",
       " 'he',\n",
       " 'him',\n",
       " 'his',\n",
       " 'himself',\n",
       " 'she',\n",
       " \"she's\",\n",
       " 'her',\n",
       " 'hers',\n",
       " 'herself',\n",
       " 'it',\n",
       " \"it's\",\n",
       " 'its',\n",
       " 'itself',\n",
       " 'they',\n",
       " 'them',\n",
       " 'their',\n",
       " 'theirs',\n",
       " 'themselves',\n",
       " 'what',\n",
       " 'which',\n",
       " 'who',\n",
       " 'whom',\n",
       " 'this',\n",
       " 'that',\n",
       " \"that'll\",\n",
       " 'these',\n",
       " 'those',\n",
       " 'am',\n",
       " 'is',\n",
       " 'are',\n",
       " 'was',\n",
       " 'were',\n",
       " 'be',\n",
       " 'been',\n",
       " 'being',\n",
       " 'have',\n",
       " 'has',\n",
       " 'had',\n",
       " 'having',\n",
       " 'do',\n",
       " 'does',\n",
       " 'did',\n",
       " 'doing',\n",
       " 'a',\n",
       " 'an',\n",
       " 'the',\n",
       " 'and',\n",
       " 'but',\n",
       " 'if',\n",
       " 'or',\n",
       " 'because',\n",
       " 'as',\n",
       " 'until',\n",
       " 'while',\n",
       " 'of',\n",
       " 'at',\n",
       " 'by',\n",
       " 'for',\n",
       " 'with',\n",
       " 'about',\n",
       " 'against',\n",
       " 'between',\n",
       " 'into',\n",
       " 'through',\n",
       " 'during',\n",
       " 'before',\n",
       " 'after',\n",
       " 'above',\n",
       " 'below',\n",
       " 'to',\n",
       " 'from',\n",
       " 'up',\n",
       " 'down',\n",
       " 'in',\n",
       " 'out',\n",
       " 'on',\n",
       " 'off',\n",
       " 'over',\n",
       " 'under',\n",
       " 'again',\n",
       " 'further',\n",
       " 'then',\n",
       " 'once',\n",
       " 'here',\n",
       " 'there',\n",
       " 'when',\n",
       " 'where',\n",
       " 'why',\n",
       " 'how',\n",
       " 'all',\n",
       " 'any',\n",
       " 'both',\n",
       " 'each',\n",
       " 'few',\n",
       " 'more',\n",
       " 'most',\n",
       " 'other',\n",
       " 'some',\n",
       " 'such',\n",
       " 'no',\n",
       " 'nor',\n",
       " 'not',\n",
       " 'only',\n",
       " 'own',\n",
       " 'same',\n",
       " 'so',\n",
       " 'than',\n",
       " 'too',\n",
       " 'very',\n",
       " 's',\n",
       " 't',\n",
       " 'can',\n",
       " 'will',\n",
       " 'just',\n",
       " 'don',\n",
       " \"don't\",\n",
       " 'should',\n",
       " \"should've\",\n",
       " 'now',\n",
       " 'd',\n",
       " 'll',\n",
       " 'm',\n",
       " 'o',\n",
       " 're',\n",
       " 've',\n",
       " 'y',\n",
       " 'ain',\n",
       " 'aren',\n",
       " \"aren't\",\n",
       " 'couldn',\n",
       " \"couldn't\",\n",
       " 'didn',\n",
       " \"didn't\",\n",
       " 'doesn',\n",
       " \"doesn't\",\n",
       " 'hadn',\n",
       " \"hadn't\",\n",
       " 'hasn',\n",
       " \"hasn't\",\n",
       " 'haven',\n",
       " \"haven't\",\n",
       " 'isn',\n",
       " \"isn't\",\n",
       " 'ma',\n",
       " 'mightn',\n",
       " \"mightn't\",\n",
       " 'mustn',\n",
       " \"mustn't\",\n",
       " 'needn',\n",
       " \"needn't\",\n",
       " 'shan',\n",
       " \"shan't\",\n",
       " 'shouldn',\n",
       " \"shouldn't\",\n",
       " 'wasn',\n",
       " \"wasn't\",\n",
       " 'weren',\n",
       " \"weren't\",\n",
       " 'won',\n",
       " \"won't\",\n",
       " 'wouldn',\n",
       " \"wouldn't\"]"
      ]
     },
     "execution_count": 3,
     "metadata": {},
     "output_type": "execute_result"
    }
   ],
   "source": [
    "stop_words"
   ]
  },
  {
   "cell_type": "code",
   "execution_count": 4,
   "id": "d2f2693c",
   "metadata": {},
   "outputs": [],
   "source": [
    "sentence = \"But NASA says that plans for Vande Hei to arrive in Kazakhstan on March 30, 2022, have not changed. By then, he would have spent 355 days in space. The world record of 438 continuous days in space belongs to Russia.\"\n",
    "stop_words = set(stopwords.words('english'))"
   ]
  },
  {
   "cell_type": "code",
   "execution_count": 5,
   "id": "a079bb24",
   "metadata": {},
   "outputs": [],
   "source": [
    "tokenzied_words = word_tokenize(sentence)"
   ]
  },
  {
   "cell_type": "code",
   "execution_count": 6,
   "id": "db5193e6",
   "metadata": {},
   "outputs": [
    {
     "name": "stdout",
     "output_type": "stream",
     "text": [
      "Stopwords 전: ['But', 'NASA', 'says', 'that', 'plans', 'for', 'Vande', 'Hei', 'to', 'arrive', 'in', 'Kazakhstan', 'on', 'March', '30', ',', '2022', ',', 'have', 'not', 'changed', '.', 'By', 'then', ',', 'he', 'would', 'have', 'spent', '355', 'days', 'in', 'space', '.', 'The', 'world', 'record', 'of', '438', 'continuous', 'days', 'in', 'space', 'belongs', 'to', 'Russia', '.']\n",
      "Stopwords 후: ['But', 'NASA', 'says', 'plans', 'Vande', 'Hei', 'arrive', 'Kazakhstan', 'March', '30', ',', '2022', ',', 'changed', '.', 'By', ',', 'would', 'spent', '355', 'days', 'space', '.', 'The', 'world', 'record', '438', 'continuous', 'days', 'space', 'belongs', 'Russia', '.']\n"
     ]
    }
   ],
   "source": [
    "result = []\n",
    "for word in tokenzied_words:\n",
    "    if word not in stop_words:\n",
    "        result.append(word)\n",
    "\n",
    "print(\"Stopwords 전:\", tokenzied_words)\n",
    "print(\"Stopwords 후:\", result)"
   ]
  },
  {
   "cell_type": "markdown",
   "id": "15177446",
   "metadata": {},
   "source": [
    "#### 한국어 불용어 제거"
   ]
  },
  {
   "cell_type": "code",
   "execution_count": 7,
   "id": "221fe089",
   "metadata": {},
   "outputs": [],
   "source": [
    "okt = Okt()"
   ]
  },
  {
   "cell_type": "code",
   "execution_count": 11,
   "id": "7a4cf08a",
   "metadata": {},
   "outputs": [],
   "source": [
    "sentence = \"한국공항공사는 국내선 항공기 탑승수속 시 신분증 미소지로 인한 승객불편을 해소하고자 2018년부터 바이오인증 One ID 신분확인 서비스를 운영 중이다.\"\n",
    "stop_words = \"은 는 이 가 시 로 을 를 이다 중\""
   ]
  },
  {
   "cell_type": "code",
   "execution_count": 12,
   "id": "9e37ee53",
   "metadata": {},
   "outputs": [],
   "source": [
    "stop_words = set(stop_words.split(' '))\n",
    "tokenzied_sentence = okt.morphs(sentence)"
   ]
  },
  {
   "cell_type": "code",
   "execution_count": 15,
   "id": "5aa30935",
   "metadata": {},
   "outputs": [
    {
     "name": "stdout",
     "output_type": "stream",
     "text": [
      "형태소 분석:  ['한국', '공', '항공사', '는', '국내선', '항공기', '탑승수속', '시', '신분증', '미소', '지로', '인한', '승객', '불편', '을', '해소', '하고자', '2018년', '부터', '바이오인증', 'One', 'ID', '신분', '확인', '서비스', '를', '운영', '중이', '다', '.']\n"
     ]
    }
   ],
   "source": [
    "print(\"형태소 분석: \", tokenzied_sentence)"
   ]
  },
  {
   "cell_type": "code",
   "execution_count": 16,
   "id": "3dbf28a3",
   "metadata": {},
   "outputs": [],
   "source": [
    "result = []\n",
    "for word in tokenzied_sentence:\n",
    "    if word not in stop_words:\n",
    "        result.append(word)"
   ]
  },
  {
   "cell_type": "code",
   "execution_count": 17,
   "id": "f18c30f5",
   "metadata": {},
   "outputs": [
    {
     "name": "stdout",
     "output_type": "stream",
     "text": [
      "불용어 처리 후:  ['한국', '공', '항공사', '국내선', '항공기', '탑승수속', '신분증', '미소', '지로', '인한', '승객', '불편', '해소', '하고자', '2018년', '부터', '바이오인증', 'One', 'ID', '신분', '확인', '서비스', '운영', '중이', '다', '.']\n"
     ]
    }
   ],
   "source": [
    "print(\"불용어 처리 후: \", result)"
   ]
  }
 ],
 "metadata": {
  "kernelspec": {
   "display_name": "Python 3 (ipykernel)",
   "language": "python",
   "name": "python3"
  },
  "language_info": {
   "codemirror_mode": {
    "name": "ipython",
    "version": 3
   },
   "file_extension": ".py",
   "mimetype": "text/x-python",
   "name": "python",
   "nbconvert_exporter": "python",
   "pygments_lexer": "ipython3",
   "version": "3.9.7"
  }
 },
 "nbformat": 4,
 "nbformat_minor": 5
}
